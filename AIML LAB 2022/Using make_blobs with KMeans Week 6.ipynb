{
 "cells": [
  {
   "cell_type": "code",
   "execution_count": 1,
   "metadata": {},
   "outputs": [],
   "source": [
    "import numpy as np"
   ]
  },
  {
   "cell_type": "code",
   "execution_count": 2,
   "metadata": {},
   "outputs": [],
   "source": [
    "import matplotlib.pyplot as plt"
   ]
  },
  {
   "cell_type": "code",
   "execution_count": 3,
   "metadata": {},
   "outputs": [],
   "source": [
    "from sklearn.datasets import make_blobs"
   ]
  },
  {
   "cell_type": "code",
   "execution_count": 4,
   "metadata": {},
   "outputs": [],
   "source": [
    "from sklearn.cluster import KMeans"
   ]
  },
  {
   "cell_type": "code",
   "execution_count": 5,
   "metadata": {},
   "outputs": [],
   "source": [
    "alldata=make_blobs(n_samples=200,centers=4,\n",
    "n_features=2, cluster_std=1.5, random_state=30)"
   ]
  },
  {
   "cell_type": "code",
   "execution_count": 6,
   "metadata": {},
   "outputs": [
    {
     "name": "stdout",
     "output_type": "stream",
     "text": [
      "(array([[ 8.51407976e+00, -6.18828280e+00],\n",
      "       [ 7.73736837e+00, -4.52365640e+00],\n",
      "       [ 2.40291137e+00, -7.94945122e+00],\n",
      "       [ 8.29380054e+00, -4.70170347e+00],\n",
      "       [ 4.79290982e+00, -5.61888606e+00],\n",
      "       [ 9.52726545e+00, -2.44630131e+00],\n",
      "       [ 1.17045705e+00, -6.60717108e+00],\n",
      "       [ 2.95325152e+00, -6.79538648e+00],\n",
      "       [ 2.62599755e+00, -6.98512507e+00],\n",
      "       [ 7.79170204e+00, -7.21614623e+00],\n",
      "       [ 2.32604509e+00, -6.17461717e+00],\n",
      "       [ 7.30854066e+00, -1.84532049e+00],\n",
      "       [ 6.53588267e+00, -8.83979147e+00],\n",
      "       [ 1.83076709e+00, -1.11139843e+00],\n",
      "       [ 5.43995650e+00, -1.06889091e+00],\n",
      "       [ 8.94242794e+00, -2.95956947e+00],\n",
      "       [ 1.29690251e+00, -4.31120603e+00],\n",
      "       [ 1.28195103e+01, -5.18434427e+00],\n",
      "       [ 6.79975761e-01, -4.22162853e+00],\n",
      "       [ 1.99357986e+00, -8.94157251e+00],\n",
      "       [ 2.51593805e+00, -7.01253425e+00],\n",
      "       [ 1.16606001e+01, -5.17682713e+00],\n",
      "       [ 7.70804283e+00, -2.39028868e+00],\n",
      "       [ 1.81834615e+00, -5.29490954e+00],\n",
      "       [ 9.47018622e+00, -1.82328932e+00],\n",
      "       [ 6.41544749e+00, -7.53776031e+00],\n",
      "       [ 1.15441253e+01, -3.25054513e+00],\n",
      "       [ 3.56541409e+00, -2.95495312e+00],\n",
      "       [ 4.16042453e+00, -7.28593521e+00],\n",
      "       [ 1.90528382e+00, -7.19498898e+00],\n",
      "       [ 7.35352262e+00, -6.08217618e+00],\n",
      "       [ 3.91750418e+00, -5.95582351e+00],\n",
      "       [ 1.73679898e+00, -3.54781297e+00],\n",
      "       [ 7.51363963e+00, -2.93319000e+00],\n",
      "       [ 9.57971153e+00, -6.58868244e+00],\n",
      "       [ 9.64579253e+00, -3.98841217e+00],\n",
      "       [ 2.16357730e+00, -5.94812976e+00],\n",
      "       [ 4.38671116e+00, -3.95067701e+00],\n",
      "       [ 2.65506864e+00, -5.18199247e+00],\n",
      "       [ 1.10087782e+01, -5.97068753e+00],\n",
      "       [ 8.15423304e+00, -3.57226826e+00],\n",
      "       [ 5.92308090e+00, -6.11904957e+00],\n",
      "       [ 1.03066107e+01, -4.59294303e+00],\n",
      "       [ 6.14958803e+00, -6.03258461e+00],\n",
      "       [ 4.95864147e+00, -1.24445258e+00],\n",
      "       [ 9.44361165e+00, -3.28742153e-01],\n",
      "       [ 9.14757483e+00, -5.94536585e+00],\n",
      "       [ 7.58192007e+00,  1.94614511e-01],\n",
      "       [ 1.05954415e+01, -4.95348855e+00],\n",
      "       [ 3.60372130e+00, -3.82688172e+00],\n",
      "       [ 2.93927079e-01, -7.38715377e-03],\n",
      "       [ 2.30234602e+00, -5.27598829e+00],\n",
      "       [ 1.06391812e+01, -8.32643716e+00],\n",
      "       [ 2.83908164e+00, -2.93946230e-01],\n",
      "       [ 7.51919968e+00, -5.06720826e+00],\n",
      "       [ 1.83011331e+00, -8.39455636e+00],\n",
      "       [ 7.88313109e+00, -5.39490930e+00],\n",
      "       [ 7.64586917e+00, -1.18474210e+00],\n",
      "       [ 9.58242031e+00, -6.45384727e+00],\n",
      "       [ 6.61716845e+00, -3.07121761e+00],\n",
      "       [ 1.00425497e+01, -2.00739033e+00],\n",
      "       [ 7.78618431e+00, -5.07424466e+00],\n",
      "       [ 5.02113555e+00, -3.38216289e+00],\n",
      "       [ 3.34921878e+00, -3.73714759e+00],\n",
      "       [ 9.44471641e+00, -2.67773886e+00],\n",
      "       [ 7.70197094e+00, -3.06626134e+00],\n",
      "       [ 7.78541796e+00, -3.04762079e+00],\n",
      "       [ 5.25020905e+00, -2.22378329e+00],\n",
      "       [ 2.64644137e+00, -5.86091438e+00],\n",
      "       [ 1.03252767e+01, -3.76100877e-01],\n",
      "       [ 6.43466161e+00, -5.65169794e-02],\n",
      "       [ 9.50072478e+00, -4.66275040e+00],\n",
      "       [ 9.62781325e+00, -8.08729657e+00],\n",
      "       [ 1.05690136e+01, -3.92340368e+00],\n",
      "       [ 6.53023454e+00, -3.37616225e+00],\n",
      "       [ 9.68630443e+00, -3.10734333e+00],\n",
      "       [ 3.38039131e+00, -1.72943809e+00],\n",
      "       [ 4.39824846e+00, -6.12025368e+00],\n",
      "       [ 1.00923124e+01, -2.11624452e+00],\n",
      "       [ 3.91380893e+00, -5.84861336e+00],\n",
      "       [ 8.82112687e+00, -2.48353401e+00],\n",
      "       [ 9.03995252e+00, -3.67351540e+00],\n",
      "       [ 1.05391187e+01, -4.01036845e+00],\n",
      "       [ 4.86727716e+00, -6.01783604e+00],\n",
      "       [ 3.36760082e+00, -3.87278180e+00],\n",
      "       [ 1.12141776e+01, -4.44210158e+00],\n",
      "       [ 4.78491239e+00, -2.80806358e+00],\n",
      "       [ 8.85386398e+00, -2.87519555e+00],\n",
      "       [ 9.78113743e+00, -7.16728768e+00],\n",
      "       [ 2.44183963e+00, -8.00183426e+00],\n",
      "       [ 3.88582807e+00, -5.94480789e+00],\n",
      "       [ 2.49296847e+00, -1.53559006e+00],\n",
      "       [ 3.19132042e+00, -3.07506948e+00],\n",
      "       [ 9.77061108e+00, -5.00081561e+00],\n",
      "       [ 2.24834777e+00, -7.88307068e-01],\n",
      "       [ 1.13794716e+00, -2.41703286e+00],\n",
      "       [ 5.09877783e-01, -4.24970148e+00],\n",
      "       [ 9.36492793e+00, -6.16076896e+00],\n",
      "       [ 8.31616554e+00, -2.53318893e+00],\n",
      "       [ 9.65748787e+00, -2.30956846e+00],\n",
      "       [ 7.67708877e+00, -4.69020380e+00],\n",
      "       [ 2.08184629e+00, -7.09185129e+00],\n",
      "       [ 4.01697838e+00, -9.71905073e+00],\n",
      "       [ 1.16115740e+01, -5.45761137e+00],\n",
      "       [ 2.28606956e+00, -8.56339130e-01],\n",
      "       [ 2.67783835e+00, -6.88355291e+00],\n",
      "       [ 4.28109267e+00, -4.47119265e+00],\n",
      "       [ 1.23265501e+00, -4.35849634e+00],\n",
      "       [ 8.64855344e+00, -7.45606364e+00],\n",
      "       [ 1.11450660e+01, -3.26753033e+00],\n",
      "       [ 3.39806519e+00, -6.26901400e+00],\n",
      "       [ 7.88400843e+00, -7.11127240e+00],\n",
      "       [ 5.52405818e+00, -5.61187133e+00],\n",
      "       [ 2.69032217e+00, -3.72839614e+00],\n",
      "       [ 4.36865443e+00, -3.27717516e+00],\n",
      "       [ 9.87036531e+00, -4.29870076e+00],\n",
      "       [ 1.87417000e+00, -6.17695704e+00],\n",
      "       [ 1.05047338e+00, -7.62278021e+00],\n",
      "       [ 2.62275123e+00, -2.71001247e+00],\n",
      "       [ 1.40425113e+00, -9.14330657e+00],\n",
      "       [ 4.05703548e+00, -5.07488706e+00],\n",
      "       [ 6.53896941e+00, -7.85987808e+00],\n",
      "       [ 9.86349781e+00,  1.20092107e+00],\n",
      "       [ 3.74551729e+00, -3.13270027e+00],\n",
      "       [ 9.31078888e+00, -2.02089834e+00],\n",
      "       [ 1.00949325e+01, -7.80651828e+00],\n",
      "       [ 1.12469972e+01, -7.37881029e+00],\n",
      "       [ 9.95716257e+00, -4.46815707e+00],\n",
      "       [ 7.81698527e+00, -3.89182534e+00],\n",
      "       [ 1.06782543e+01, -8.53619278e+00],\n",
      "       [ 2.26118214e+00, -6.71884614e+00],\n",
      "       [ 5.53635321e+00, -4.86936724e+00],\n",
      "       [ 4.36039751e+00, -4.93572810e+00],\n",
      "       [ 9.83204078e+00, -4.98202557e+00],\n",
      "       [ 4.74565397e+00,  1.76590107e-01],\n",
      "       [ 2.27312883e+00, -5.67154132e+00],\n",
      "       [ 4.09862209e+00, -3.95219777e+00],\n",
      "       [ 4.13114378e+00, -7.63582293e+00],\n",
      "       [ 3.97080523e+00, -6.15681193e+00],\n",
      "       [ 3.49809272e+00, -6.49502765e+00],\n",
      "       [ 8.81566294e+00, -3.60780881e+00],\n",
      "       [ 1.01458593e+01, -5.14326955e+00],\n",
      "       [ 2.42913016e+00, -3.98072680e+00],\n",
      "       [ 2.87420373e+00, -3.08624866e+00],\n",
      "       [ 2.92791237e+00, -3.06004185e+00],\n",
      "       [ 8.76225814e+00, -6.45849196e+00],\n",
      "       [ 1.14199720e+01, -6.58286059e+00],\n",
      "       [-1.47218067e+00,  4.03053551e-02],\n",
      "       [ 7.35443885e+00, -2.82145981e+00],\n",
      "       [ 3.70900561e+00, -9.53496488e-01],\n",
      "       [ 8.21166727e+00, -6.42624299e+00],\n",
      "       [ 4.25255978e+00, -4.46664822e+00],\n",
      "       [ 1.16858605e+01, -5.07693818e+00],\n",
      "       [ 3.60488873e+00, -8.77922417e+00],\n",
      "       [ 1.05822400e+01, -4.53427559e+00],\n",
      "       [ 8.79804399e+00, -2.79332723e+00],\n",
      "       [ 9.61418661e+00, -3.98566427e+00],\n",
      "       [-2.42974227e-01, -9.78357642e-01],\n",
      "       [ 4.20131268e+00, -4.62743423e+00],\n",
      "       [ 9.24370105e+00, -1.85841930e+00],\n",
      "       [ 8.46488213e+00, -6.79770211e+00],\n",
      "       [ 7.55404041e+00, -3.96743736e+00],\n",
      "       [ 2.30251796e+00, -6.12990171e+00],\n",
      "       [ 2.85811724e+00, -2.48416625e+00],\n",
      "       [ 8.51612927e+00, -2.89717046e+00],\n",
      "       [ 1.02017747e+01, -8.12406086e-01],\n",
      "       [ 5.73119267e+00, -2.91730467e+00],\n",
      "       [ 9.62465764e+00, -5.17260135e+00],\n",
      "       [ 9.25878479e+00, -5.08945604e+00],\n",
      "       [ 4.34679774e-01, -6.18033568e+00],\n",
      "       [ 9.48849046e+00, -5.62869566e+00],\n",
      "       [ 2.08348853e+00, -3.77344748e+00],\n",
      "       [ 8.30437901e+00, -5.75240504e+00],\n",
      "       [ 8.03662624e+00, -4.17095602e+00],\n",
      "       [ 9.45131238e+00, -4.66232094e+00],\n",
      "       [ 8.95659239e+00, -4.92396488e+00],\n",
      "       [ 9.22954414e+00, -3.65522852e+00],\n",
      "       [ 3.08431561e+00, -4.04531341e+00],\n",
      "       [ 8.54479643e+00, -1.10839939e+00],\n",
      "       [ 8.69921332e+00, -3.28326445e+00],\n",
      "       [ 1.84902666e+00, -3.66416550e+00],\n",
      "       [ 9.89522310e+00, -3.65950103e+00],\n",
      "       [ 9.59679253e+00, -5.54854538e+00],\n",
      "       [ 7.90605862e+00, -7.32071602e+00],\n",
      "       [ 8.72838810e+00, -2.15611699e+00],\n",
      "       [ 1.14992058e+00, -1.03377218e+00],\n",
      "       [ 1.29347117e+01, -4.96780409e+00],\n",
      "       [ 2.26761719e+00, -3.96764321e+00],\n",
      "       [ 4.06176206e+00, -2.77282947e+00],\n",
      "       [ 1.05043642e+01, -4.35583605e+00],\n",
      "       [ 3.83809909e+00, -5.50742952e+00],\n",
      "       [ 4.15338949e+00, -3.61536655e+00],\n",
      "       [ 1.09443512e+01, -6.66145213e+00],\n",
      "       [ 9.00918761e+00, -6.63829873e+00],\n",
      "       [ 4.55307888e+00, -5.26678478e+00],\n",
      "       [ 4.45892040e+00, -3.19034189e+00],\n",
      "       [ 9.17846209e+00, -6.19029679e+00],\n",
      "       [ 2.45440245e+00, -1.57747899e+00],\n",
      "       [ 2.21445498e+00, -6.18120362e+00],\n",
      "       [ 3.16448595e+00, -5.97242090e+00]]), array([3, 3, 1, 3, 1, 2, 1, 1, 1, 1, 1, 3, 1, 0, 0, 2, 0, 3, 1, 1, 1, 3,\n",
      "       2, 1, 2, 1, 2, 0, 1, 1, 3, 1, 0, 2, 3, 2, 1, 0, 1, 2, 2, 1, 3, 3,\n",
      "       0, 2, 3, 2, 2, 1, 0, 0, 3, 0, 3, 1, 3, 2, 3, 2, 2, 2, 0, 1, 3, 2,\n",
      "       2, 0, 1, 2, 3, 3, 3, 2, 2, 2, 0, 1, 2, 1, 3, 2, 2, 1, 0, 2, 0, 2,\n",
      "       3, 1, 1, 0, 0, 3, 0, 0, 0, 3, 2, 2, 3, 1, 1, 3, 0, 1, 0, 0, 3, 2,\n",
      "       0, 3, 1, 0, 0, 2, 1, 1, 0, 1, 0, 1, 2, 0, 3, 3, 3, 2, 2, 3, 1, 1,\n",
      "       0, 3, 0, 1, 0, 1, 1, 1, 2, 3, 0, 0, 0, 3, 3, 0, 2, 0, 3, 0, 3, 1,\n",
      "       2, 3, 2, 0, 0, 2, 3, 2, 1, 0, 2, 2, 0, 2, 3, 1, 2, 1, 3, 2, 3, 3,\n",
      "       2, 0, 2, 2, 0, 2, 3, 3, 3, 0, 3, 0, 0, 2, 1, 1, 3, 3, 0, 0, 3, 0,\n",
      "       1, 1]))\n"
     ]
    }
   ],
   "source": [
    "print(alldata)"
   ]
  },
  {
   "cell_type": "code",
   "execution_count": 7,
   "metadata": {},
   "outputs": [],
   "source": [
    "data=alldata[0]"
   ]
  },
  {
   "cell_type": "code",
   "execution_count": 8,
   "metadata": {},
   "outputs": [
    {
     "data": {
      "text/plain": [
       "array([[ 8.51407976e+00, -6.18828280e+00],\n",
       "       [ 7.73736837e+00, -4.52365640e+00],\n",
       "       [ 2.40291137e+00, -7.94945122e+00],\n",
       "       [ 8.29380054e+00, -4.70170347e+00],\n",
       "       [ 4.79290982e+00, -5.61888606e+00],\n",
       "       [ 9.52726545e+00, -2.44630131e+00],\n",
       "       [ 1.17045705e+00, -6.60717108e+00],\n",
       "       [ 2.95325152e+00, -6.79538648e+00],\n",
       "       [ 2.62599755e+00, -6.98512507e+00],\n",
       "       [ 7.79170204e+00, -7.21614623e+00],\n",
       "       [ 2.32604509e+00, -6.17461717e+00],\n",
       "       [ 7.30854066e+00, -1.84532049e+00],\n",
       "       [ 6.53588267e+00, -8.83979147e+00],\n",
       "       [ 1.83076709e+00, -1.11139843e+00],\n",
       "       [ 5.43995650e+00, -1.06889091e+00],\n",
       "       [ 8.94242794e+00, -2.95956947e+00],\n",
       "       [ 1.29690251e+00, -4.31120603e+00],\n",
       "       [ 1.28195103e+01, -5.18434427e+00],\n",
       "       [ 6.79975761e-01, -4.22162853e+00],\n",
       "       [ 1.99357986e+00, -8.94157251e+00],\n",
       "       [ 2.51593805e+00, -7.01253425e+00],\n",
       "       [ 1.16606001e+01, -5.17682713e+00],\n",
       "       [ 7.70804283e+00, -2.39028868e+00],\n",
       "       [ 1.81834615e+00, -5.29490954e+00],\n",
       "       [ 9.47018622e+00, -1.82328932e+00],\n",
       "       [ 6.41544749e+00, -7.53776031e+00],\n",
       "       [ 1.15441253e+01, -3.25054513e+00],\n",
       "       [ 3.56541409e+00, -2.95495312e+00],\n",
       "       [ 4.16042453e+00, -7.28593521e+00],\n",
       "       [ 1.90528382e+00, -7.19498898e+00],\n",
       "       [ 7.35352262e+00, -6.08217618e+00],\n",
       "       [ 3.91750418e+00, -5.95582351e+00],\n",
       "       [ 1.73679898e+00, -3.54781297e+00],\n",
       "       [ 7.51363963e+00, -2.93319000e+00],\n",
       "       [ 9.57971153e+00, -6.58868244e+00],\n",
       "       [ 9.64579253e+00, -3.98841217e+00],\n",
       "       [ 2.16357730e+00, -5.94812976e+00],\n",
       "       [ 4.38671116e+00, -3.95067701e+00],\n",
       "       [ 2.65506864e+00, -5.18199247e+00],\n",
       "       [ 1.10087782e+01, -5.97068753e+00],\n",
       "       [ 8.15423304e+00, -3.57226826e+00],\n",
       "       [ 5.92308090e+00, -6.11904957e+00],\n",
       "       [ 1.03066107e+01, -4.59294303e+00],\n",
       "       [ 6.14958803e+00, -6.03258461e+00],\n",
       "       [ 4.95864147e+00, -1.24445258e+00],\n",
       "       [ 9.44361165e+00, -3.28742153e-01],\n",
       "       [ 9.14757483e+00, -5.94536585e+00],\n",
       "       [ 7.58192007e+00,  1.94614511e-01],\n",
       "       [ 1.05954415e+01, -4.95348855e+00],\n",
       "       [ 3.60372130e+00, -3.82688172e+00],\n",
       "       [ 2.93927079e-01, -7.38715377e-03],\n",
       "       [ 2.30234602e+00, -5.27598829e+00],\n",
       "       [ 1.06391812e+01, -8.32643716e+00],\n",
       "       [ 2.83908164e+00, -2.93946230e-01],\n",
       "       [ 7.51919968e+00, -5.06720826e+00],\n",
       "       [ 1.83011331e+00, -8.39455636e+00],\n",
       "       [ 7.88313109e+00, -5.39490930e+00],\n",
       "       [ 7.64586917e+00, -1.18474210e+00],\n",
       "       [ 9.58242031e+00, -6.45384727e+00],\n",
       "       [ 6.61716845e+00, -3.07121761e+00],\n",
       "       [ 1.00425497e+01, -2.00739033e+00],\n",
       "       [ 7.78618431e+00, -5.07424466e+00],\n",
       "       [ 5.02113555e+00, -3.38216289e+00],\n",
       "       [ 3.34921878e+00, -3.73714759e+00],\n",
       "       [ 9.44471641e+00, -2.67773886e+00],\n",
       "       [ 7.70197094e+00, -3.06626134e+00],\n",
       "       [ 7.78541796e+00, -3.04762079e+00],\n",
       "       [ 5.25020905e+00, -2.22378329e+00],\n",
       "       [ 2.64644137e+00, -5.86091438e+00],\n",
       "       [ 1.03252767e+01, -3.76100877e-01],\n",
       "       [ 6.43466161e+00, -5.65169794e-02],\n",
       "       [ 9.50072478e+00, -4.66275040e+00],\n",
       "       [ 9.62781325e+00, -8.08729657e+00],\n",
       "       [ 1.05690136e+01, -3.92340368e+00],\n",
       "       [ 6.53023454e+00, -3.37616225e+00],\n",
       "       [ 9.68630443e+00, -3.10734333e+00],\n",
       "       [ 3.38039131e+00, -1.72943809e+00],\n",
       "       [ 4.39824846e+00, -6.12025368e+00],\n",
       "       [ 1.00923124e+01, -2.11624452e+00],\n",
       "       [ 3.91380893e+00, -5.84861336e+00],\n",
       "       [ 8.82112687e+00, -2.48353401e+00],\n",
       "       [ 9.03995252e+00, -3.67351540e+00],\n",
       "       [ 1.05391187e+01, -4.01036845e+00],\n",
       "       [ 4.86727716e+00, -6.01783604e+00],\n",
       "       [ 3.36760082e+00, -3.87278180e+00],\n",
       "       [ 1.12141776e+01, -4.44210158e+00],\n",
       "       [ 4.78491239e+00, -2.80806358e+00],\n",
       "       [ 8.85386398e+00, -2.87519555e+00],\n",
       "       [ 9.78113743e+00, -7.16728768e+00],\n",
       "       [ 2.44183963e+00, -8.00183426e+00],\n",
       "       [ 3.88582807e+00, -5.94480789e+00],\n",
       "       [ 2.49296847e+00, -1.53559006e+00],\n",
       "       [ 3.19132042e+00, -3.07506948e+00],\n",
       "       [ 9.77061108e+00, -5.00081561e+00],\n",
       "       [ 2.24834777e+00, -7.88307068e-01],\n",
       "       [ 1.13794716e+00, -2.41703286e+00],\n",
       "       [ 5.09877783e-01, -4.24970148e+00],\n",
       "       [ 9.36492793e+00, -6.16076896e+00],\n",
       "       [ 8.31616554e+00, -2.53318893e+00],\n",
       "       [ 9.65748787e+00, -2.30956846e+00],\n",
       "       [ 7.67708877e+00, -4.69020380e+00],\n",
       "       [ 2.08184629e+00, -7.09185129e+00],\n",
       "       [ 4.01697838e+00, -9.71905073e+00],\n",
       "       [ 1.16115740e+01, -5.45761137e+00],\n",
       "       [ 2.28606956e+00, -8.56339130e-01],\n",
       "       [ 2.67783835e+00, -6.88355291e+00],\n",
       "       [ 4.28109267e+00, -4.47119265e+00],\n",
       "       [ 1.23265501e+00, -4.35849634e+00],\n",
       "       [ 8.64855344e+00, -7.45606364e+00],\n",
       "       [ 1.11450660e+01, -3.26753033e+00],\n",
       "       [ 3.39806519e+00, -6.26901400e+00],\n",
       "       [ 7.88400843e+00, -7.11127240e+00],\n",
       "       [ 5.52405818e+00, -5.61187133e+00],\n",
       "       [ 2.69032217e+00, -3.72839614e+00],\n",
       "       [ 4.36865443e+00, -3.27717516e+00],\n",
       "       [ 9.87036531e+00, -4.29870076e+00],\n",
       "       [ 1.87417000e+00, -6.17695704e+00],\n",
       "       [ 1.05047338e+00, -7.62278021e+00],\n",
       "       [ 2.62275123e+00, -2.71001247e+00],\n",
       "       [ 1.40425113e+00, -9.14330657e+00],\n",
       "       [ 4.05703548e+00, -5.07488706e+00],\n",
       "       [ 6.53896941e+00, -7.85987808e+00],\n",
       "       [ 9.86349781e+00,  1.20092107e+00],\n",
       "       [ 3.74551729e+00, -3.13270027e+00],\n",
       "       [ 9.31078888e+00, -2.02089834e+00],\n",
       "       [ 1.00949325e+01, -7.80651828e+00],\n",
       "       [ 1.12469972e+01, -7.37881029e+00],\n",
       "       [ 9.95716257e+00, -4.46815707e+00],\n",
       "       [ 7.81698527e+00, -3.89182534e+00],\n",
       "       [ 1.06782543e+01, -8.53619278e+00],\n",
       "       [ 2.26118214e+00, -6.71884614e+00],\n",
       "       [ 5.53635321e+00, -4.86936724e+00],\n",
       "       [ 4.36039751e+00, -4.93572810e+00],\n",
       "       [ 9.83204078e+00, -4.98202557e+00],\n",
       "       [ 4.74565397e+00,  1.76590107e-01],\n",
       "       [ 2.27312883e+00, -5.67154132e+00],\n",
       "       [ 4.09862209e+00, -3.95219777e+00],\n",
       "       [ 4.13114378e+00, -7.63582293e+00],\n",
       "       [ 3.97080523e+00, -6.15681193e+00],\n",
       "       [ 3.49809272e+00, -6.49502765e+00],\n",
       "       [ 8.81566294e+00, -3.60780881e+00],\n",
       "       [ 1.01458593e+01, -5.14326955e+00],\n",
       "       [ 2.42913016e+00, -3.98072680e+00],\n",
       "       [ 2.87420373e+00, -3.08624866e+00],\n",
       "       [ 2.92791237e+00, -3.06004185e+00],\n",
       "       [ 8.76225814e+00, -6.45849196e+00],\n",
       "       [ 1.14199720e+01, -6.58286059e+00],\n",
       "       [-1.47218067e+00,  4.03053551e-02],\n",
       "       [ 7.35443885e+00, -2.82145981e+00],\n",
       "       [ 3.70900561e+00, -9.53496488e-01],\n",
       "       [ 8.21166727e+00, -6.42624299e+00],\n",
       "       [ 4.25255978e+00, -4.46664822e+00],\n",
       "       [ 1.16858605e+01, -5.07693818e+00],\n",
       "       [ 3.60488873e+00, -8.77922417e+00],\n",
       "       [ 1.05822400e+01, -4.53427559e+00],\n",
       "       [ 8.79804399e+00, -2.79332723e+00],\n",
       "       [ 9.61418661e+00, -3.98566427e+00],\n",
       "       [-2.42974227e-01, -9.78357642e-01],\n",
       "       [ 4.20131268e+00, -4.62743423e+00],\n",
       "       [ 9.24370105e+00, -1.85841930e+00],\n",
       "       [ 8.46488213e+00, -6.79770211e+00],\n",
       "       [ 7.55404041e+00, -3.96743736e+00],\n",
       "       [ 2.30251796e+00, -6.12990171e+00],\n",
       "       [ 2.85811724e+00, -2.48416625e+00],\n",
       "       [ 8.51612927e+00, -2.89717046e+00],\n",
       "       [ 1.02017747e+01, -8.12406086e-01],\n",
       "       [ 5.73119267e+00, -2.91730467e+00],\n",
       "       [ 9.62465764e+00, -5.17260135e+00],\n",
       "       [ 9.25878479e+00, -5.08945604e+00],\n",
       "       [ 4.34679774e-01, -6.18033568e+00],\n",
       "       [ 9.48849046e+00, -5.62869566e+00],\n",
       "       [ 2.08348853e+00, -3.77344748e+00],\n",
       "       [ 8.30437901e+00, -5.75240504e+00],\n",
       "       [ 8.03662624e+00, -4.17095602e+00],\n",
       "       [ 9.45131238e+00, -4.66232094e+00],\n",
       "       [ 8.95659239e+00, -4.92396488e+00],\n",
       "       [ 9.22954414e+00, -3.65522852e+00],\n",
       "       [ 3.08431561e+00, -4.04531341e+00],\n",
       "       [ 8.54479643e+00, -1.10839939e+00],\n",
       "       [ 8.69921332e+00, -3.28326445e+00],\n",
       "       [ 1.84902666e+00, -3.66416550e+00],\n",
       "       [ 9.89522310e+00, -3.65950103e+00],\n",
       "       [ 9.59679253e+00, -5.54854538e+00],\n",
       "       [ 7.90605862e+00, -7.32071602e+00],\n",
       "       [ 8.72838810e+00, -2.15611699e+00],\n",
       "       [ 1.14992058e+00, -1.03377218e+00],\n",
       "       [ 1.29347117e+01, -4.96780409e+00],\n",
       "       [ 2.26761719e+00, -3.96764321e+00],\n",
       "       [ 4.06176206e+00, -2.77282947e+00],\n",
       "       [ 1.05043642e+01, -4.35583605e+00],\n",
       "       [ 3.83809909e+00, -5.50742952e+00],\n",
       "       [ 4.15338949e+00, -3.61536655e+00],\n",
       "       [ 1.09443512e+01, -6.66145213e+00],\n",
       "       [ 9.00918761e+00, -6.63829873e+00],\n",
       "       [ 4.55307888e+00, -5.26678478e+00],\n",
       "       [ 4.45892040e+00, -3.19034189e+00],\n",
       "       [ 9.17846209e+00, -6.19029679e+00],\n",
       "       [ 2.45440245e+00, -1.57747899e+00],\n",
       "       [ 2.21445498e+00, -6.18120362e+00],\n",
       "       [ 3.16448595e+00, -5.97242090e+00]])"
      ]
     },
     "execution_count": 8,
     "metadata": {},
     "output_type": "execute_result"
    }
   ],
   "source": [
    "data"
   ]
  },
  {
   "cell_type": "code",
   "execution_count": 9,
   "metadata": {},
   "outputs": [
    {
     "data": {
      "text/plain": [
       "<matplotlib.collections.PathCollection at 0x2437acfb640>"
      ]
     },
     "execution_count": 9,
     "metadata": {},
     "output_type": "execute_result"
    },
    {
     "data": {
      "image/png": "[encoded data removed]",
      "text/plain": [
       "<Figure size 432x288 with 1 Axes>"
      ]
     },
     "metadata": {
      "needs_background": "light"
     },
     "output_type": "display_data"
    }
   ],
   "source": [
    "%matplotlib inline\n",
    "#plot datapoints without labels\n",
    "plt.scatter(data[:,0], data[:,1])"
   ]
  },
  {
   "cell_type": "code",
   "execution_count": 10,
   "metadata": {},
   "outputs": [],
   "source": [
    "kmeans=KMeans(n_clusters=4)"
   ]
  },
  {
   "cell_type": "code",
   "execution_count": 12,
   "metadata": {},
   "outputs": [
    {
     "name": "stdout",
     "output_type": "stream",
     "text": [
      "[3 1 2 3 2 1 2 2 2 3 2 1 2 0 0 1 0 3 0 2 2 3 1 2 1 2 1 0 2 2 3 2 0 1 3 1 2\n",
      " 0 2 3 1 2 3 2 0 1 3 1 3 0 0 2 3 0 3 2 3 1 3 1 1 3 0 0 1 1 1 0 2 1 1 3 3 3\n",
      " 1 1 0 2 1 2 1 1 3 2 0 3 0 1 3 2 2 0 0 3 0 0 0 3 1 1 3 2 2 3 0 2 2 0 3 1 2\n",
      " 3 2 0 0 3 2 2 0 2 2 2 1 0 1 3 3 3 1 3 2 2 2 3 0 2 0 2 2 2 1 3 0 0 0 3 3 0\n",
      " 1 0 3 2 3 2 3 1 1 0 2 1 3 1 2 0 1 1 0 3 3 2 3 0 3 1 3 3 1 0 1 1 0 1 3 3 1\n",
      " 0 3 0 0 3 2 0 3 3 2 0 3 0 2 2]\n"
     ]
    }
   ],
   "source": [
    "y_pred=kmeans.fit_predict(data)\n",
    "print(y_pred)"
   ]
  },
  {
   "cell_type": "code",
   "execution_count": 13,
   "metadata": {},
   "outputs": [],
   "source": [
    "clusters = kmeans.cluster_centers_"
   ]
  },
  {
   "cell_type": "code",
   "execution_count": 14,
   "metadata": {},
   "outputs": [
    {
     "data": {
      "text/plain": [
       "array([[ 2.88368772, -2.62249863],\n",
       "       [ 8.75957261, -2.53447398],\n",
       "       [ 3.40024824, -6.49923365],\n",
       "       [ 9.68112656, -5.78684846]])"
      ]
     },
     "execution_count": 14,
     "metadata": {},
     "output_type": "execute_result"
    }
   ],
   "source": [
    "clusters"
   ]
  },
  {
   "cell_type": "code",
   "execution_count": 15,
   "metadata": {},
   "outputs": [
    {
     "data": {
      "text/plain": [
       "<matplotlib.collections.PathCollection at 0x2437b574280>"
      ]
     },
     "execution_count": 15,
     "metadata": {},
     "output_type": "execute_result"
    },
    {
     "data": {
      "image/png": "[encoded data removed]",
      "text/plain": [
       "<Figure size 432x288 with 1 Axes>"
      ]
     },
     "metadata": {
      "needs_background": "light"
     },
     "output_type": "display_data"
    }
   ],
   "source": [
    "plt.scatter(data[y_pred==0,0], data[y_pred==0,1], s=70, color='green')\n",
    "plt.scatter(data[y_pred==1,0], data[y_pred==1,1], s=70, color='red')\n",
    "plt.scatter(data[y_pred==2,0], data[y_pred==2,1], s=70, color='yellow')\n",
    "plt.scatter(data[y_pred==3,0], data[y_pred==3,1], s=70, color='blue')\n",
    "plt.scatter(clusters[0][0],clusters[0][1], marker='*', color='black')\n",
    "plt.scatter(clusters[1][0],clusters[1][1], marker='*', color='black')\n",
    "plt.scatter(clusters[2][0],clusters[2][1], marker='*', color='black')\n",
    "plt.scatter(clusters[3][0],clusters[3][1], marker='*', color='black')"
   ]
  },
  {
   "cell_type": "code",
   "execution_count": 16,
   "metadata": {},
   "outputs": [
    {
     "data": {
      "text/plain": [
       "<matplotlib.collections.PathCollection at 0x2437b5d3b20>"
      ]
     },
     "execution_count": 16,
     "metadata": {},
     "output_type": "execute_result"
    },
    {
     "data": {
      "image/png": "[encoded data removed]",
      "text/plain": [
       "<Figure size 432x288 with 1 Axes>"
      ]
     },
     "metadata": {
      "needs_background": "light"
     },
     "output_type": "display_data"
    }
   ],
   "source": [
    "plt.scatter(clusters[0][0],clusters[0][1], marker='*', color='black')\n",
    "plt.scatter(clusters[1][0],clusters[1][1], marker='*', color='black')\n",
    "plt.scatter(clusters[2][0],clusters[2][1], marker='*', color='black')\n",
    "plt.scatter(clusters[3][0],clusters[3][1], marker='*', color='black')"
   ]
  },
  {
   "cell_type": "markdown",
   "metadata": {},
   "source": [
    "### IRIS dataset using KMeans"
   ]
  },
  {
   "cell_type": "code",
   "execution_count": 17,
   "metadata": {},
   "outputs": [],
   "source": [
    "import numpy as np"
   ]
  },
  {
   "cell_type": "code",
   "execution_count": 18,
   "metadata": {},
   "outputs": [],
   "source": [
    "import matplotlib.pyplot as plt"
   ]
  },
  {
   "cell_type": "code",
   "execution_count": 19,
   "metadata": {},
   "outputs": [],
   "source": [
    "from sklearn.datasets import load_iris"
   ]
  },
  {
   "cell_type": "code",
   "execution_count": 20,
   "metadata": {},
   "outputs": [],
   "source": [
    "iris = load_iris()"
   ]
  },
  {
   "cell_type": "code",
   "execution_count": 21,
   "metadata": {},
   "outputs": [],
   "source": [
    "from sklearn.cluster import KMeans"
   ]
  },
  {
   "cell_type": "code",
   "execution_count": 22,
   "metadata": {},
   "outputs": [
    {
     "data": {
      "text/plain": [
       "'.. _iris_dataset:\\n\\nIris plants dataset\\n--------------------\\n\\n**Data Set Characteristics:**\\n\\n    :Number of Instances: 150 (50 in each of three classes)\\n    :Number of Attributes: 4 numeric, predictive attributes and the class\\n    :Attribute Information:\\n        - sepal length in cm\\n        - sepal width in cm\\n        - petal length in cm\\n        - petal width in cm\\n        - class:\\n                - Iris-Setosa\\n                - Iris-Versicolour\\n                - Iris-Virginica\\n                \\n    :Summary Statistics:\\n\\n    ============== ==== ==== ======= ===== ====================\\n                    Min  Max   Mean    SD   Class Correlation\\n    ============== ==== ==== ======= ===== ====================\\n    sepal length:   4.3  7.9   5.84   0.83    0.7826\\n    sepal width:    2.0  4.4   3.05   0.43   -0.4194\\n    petal length:   1.0  6.9   3.76   1.76    0.9490  (high!)\\n    petal width:    0.1  2.5   1.20   0.76    0.9565  (high!)\\n    ============== ==== ==== ======= ===== ====================\\n\\n    :Missing Attribute Values: None\\n    :Class Distribution: 33.3% for each of 3 classes.\\n    :Creator: R.A. Fisher\\n    :Donor: Michael Marshall (MARSHALL%PLU@io.arc.nasa.gov)\\n    :Date: July, 1988\\n\\nThe famous Iris database, first used by Sir R.A. Fisher. The dataset is taken\\nfrom Fisher\\'s paper. Note that it\\'s the same as in R, but not as in the UCI\\nMachine Learning Repository, which has two wrong data points.\\n\\nThis is perhaps the best known database to be found in the\\npattern recognition literature.  Fisher\\'s paper is a classic in the field and\\nis referenced frequently to this day.  (See Duda & Hart, for example.)  The\\ndata set contains 3 classes of 50 instances each, where each class refers to a\\ntype of iris plant.  One class is linearly separable from the other 2; the\\nlatter are NOT linearly separable from each other.\\n\\n.. topic:: References\\n\\n   - Fisher, R.A. \"The use of multiple measurements in taxonomic problems\"\\n     Annual Eugenics, 7, Part II, 179-188 (1936); also in \"Contributions to\\n     Mathematical Statistics\" (John Wiley, NY, 1950).\\n   - Duda, R.O., & Hart, P.E. (1973) Pattern Classification and Scene Analysis.\\n     (Q327.D83) John Wiley & Sons.  ISBN 0-471-22361-1.  See page 218.\\n   - Dasarathy, B.V. (1980) \"Nosing Around the Neighborhood: A New System\\n     Structure and Classification Rule for Recognition in Partially Exposed\\n     Environments\".  IEEE Transactions on Pattern Analysis and Machine\\n     Intelligence, Vol. PAMI-2, No. 1, 67-71.\\n   - Gates, G.W. (1972) \"The Reduced Nearest Neighbor Rule\".  IEEE Transactions\\n     on Information Theory, May 1972, 431-433.\\n   - See also: 1988 MLC Proceedings, 54-64.  Cheeseman et al\"s AUTOCLASS II\\n     conceptual clustering system finds 3 classes in the data.\\n   - Many, many more ...'"
      ]
     },
     "execution_count": 22,
     "metadata": {},
     "output_type": "execute_result"
    }
   ],
   "source": [
    "iris.DESCR"
   ]
  },
  {
   "cell_type": "code",
   "execution_count": 23,
   "metadata": {},
   "outputs": [
    {
     "data": {
      "text/plain": [
       "array([[5.1, 3.5, 1.4, 0.2],\n",
       "       [4.9, 3. , 1.4, 0.2],\n",
       "       [4.7, 3.2, 1.3, 0.2],\n",
       "       [4.6, 3.1, 1.5, 0.2],\n",
       "       [5. , 3.6, 1.4, 0.2],\n",
       "       [5.4, 3.9, 1.7, 0.4],\n",
       "       [4.6, 3.4, 1.4, 0.3],\n",
       "       [5. , 3.4, 1.5, 0.2],\n",
       "       [4.4, 2.9, 1.4, 0.2],\n",
       "       [4.9, 3.1, 1.5, 0.1],\n",
       "       [5.4, 3.7, 1.5, 0.2],\n",
       "       [4.8, 3.4, 1.6, 0.2],\n",
       "       [4.8, 3. , 1.4, 0.1],\n",
       "       [4.3, 3. , 1.1, 0.1],\n",
       "       [5.8, 4. , 1.2, 0.2],\n",
       "       [5.7, 4.4, 1.5, 0.4],\n",
       "       [5.4, 3.9, 1.3, 0.4],\n",
       "       [5.1, 3.5, 1.4, 0.3],\n",
       "       [5.7, 3.8, 1.7, 0.3],\n",
       "       [5.1, 3.8, 1.5, 0.3],\n",
       "       [5.4, 3.4, 1.7, 0.2],\n",
       "       [5.1, 3.7, 1.5, 0.4],\n",
       "       [4.6, 3.6, 1. , 0.2],\n",
       "       [5.1, 3.3, 1.7, 0.5],\n",
       "       [4.8, 3.4, 1.9, 0.2],\n",
       "       [5. , 3. , 1.6, 0.2],\n",
       "       [5. , 3.4, 1.6, 0.4],\n",
       "       [5.2, 3.5, 1.5, 0.2],\n",
       "       [5.2, 3.4, 1.4, 0.2],\n",
       "       [4.7, 3.2, 1.6, 0.2],\n",
       "       [4.8, 3.1, 1.6, 0.2],\n",
       "       [5.4, 3.4, 1.5, 0.4],\n",
       "       [5.2, 4.1, 1.5, 0.1],\n",
       "       [5.5, 4.2, 1.4, 0.2],\n",
       "       [4.9, 3.1, 1.5, 0.2],\n",
       "       [5. , 3.2, 1.2, 0.2],\n",
       "       [5.5, 3.5, 1.3, 0.2],\n",
       "       [4.9, 3.6, 1.4, 0.1],\n",
       "       [4.4, 3. , 1.3, 0.2],\n",
       "       [5.1, 3.4, 1.5, 0.2],\n",
       "       [5. , 3.5, 1.3, 0.3],\n",
       "       [4.5, 2.3, 1.3, 0.3],\n",
       "       [4.4, 3.2, 1.3, 0.2],\n",
       "       [5. , 3.5, 1.6, 0.6],\n",
       "       [5.1, 3.8, 1.9, 0.4],\n",
       "       [4.8, 3. , 1.4, 0.3],\n",
       "       [5.1, 3.8, 1.6, 0.2],\n",
       "       [4.6, 3.2, 1.4, 0.2],\n",
       "       [5.3, 3.7, 1.5, 0.2],\n",
       "       [5. , 3.3, 1.4, 0.2],\n",
       "       [7. , 3.2, 4.7, 1.4],\n",
       "       [6.4, 3.2, 4.5, 1.5],\n",
       "       [6.9, 3.1, 4.9, 1.5],\n",
       "       [5.5, 2.3, 4. , 1.3],\n",
       "       [6.5, 2.8, 4.6, 1.5],\n",
       "       [5.7, 2.8, 4.5, 1.3],\n",
       "       [6.3, 3.3, 4.7, 1.6],\n",
       "       [4.9, 2.4, 3.3, 1. ],\n",
       "       [6.6, 2.9, 4.6, 1.3],\n",
       "       [5.2, 2.7, 3.9, 1.4],\n",
       "       [5. , 2. , 3.5, 1. ],\n",
       "       [5.9, 3. , 4.2, 1.5],\n",
       "       [6. , 2.2, 4. , 1. ],\n",
       "       [6.1, 2.9, 4.7, 1.4],\n",
       "       [5.6, 2.9, 3.6, 1.3],\n",
       "       [6.7, 3.1, 4.4, 1.4],\n",
       "       [5.6, 3. , 4.5, 1.5],\n",
       "       [5.8, 2.7, 4.1, 1. ],\n",
       "       [6.2, 2.2, 4.5, 1.5],\n",
       "       [5.6, 2.5, 3.9, 1.1],\n",
       "       [5.9, 3.2, 4.8, 1.8],\n",
       "       [6.1, 2.8, 4. , 1.3],\n",
       "       [6.3, 2.5, 4.9, 1.5],\n",
       "       [6.1, 2.8, 4.7, 1.2],\n",
       "       [6.4, 2.9, 4.3, 1.3],\n",
       "       [6.6, 3. , 4.4, 1.4],\n",
       "       [6.8, 2.8, 4.8, 1.4],\n",
       "       [6.7, 3. , 5. , 1.7],\n",
       "       [6. , 2.9, 4.5, 1.5],\n",
       "       [5.7, 2.6, 3.5, 1. ],\n",
       "       [5.5, 2.4, 3.8, 1.1],\n",
       "       [5.5, 2.4, 3.7, 1. ],\n",
       "       [5.8, 2.7, 3.9, 1.2],\n",
       "       [6. , 2.7, 5.1, 1.6],\n",
       "       [5.4, 3. , 4.5, 1.5],\n",
       "       [6. , 3.4, 4.5, 1.6],\n",
       "       [6.7, 3.1, 4.7, 1.5],\n",
       "       [6.3, 2.3, 4.4, 1.3],\n",
       "       [5.6, 3. , 4.1, 1.3],\n",
       "       [5.5, 2.5, 4. , 1.3],\n",
       "       [5.5, 2.6, 4.4, 1.2],\n",
       "       [6.1, 3. , 4.6, 1.4],\n",
       "       [5.8, 2.6, 4. , 1.2],\n",
       "       [5. , 2.3, 3.3, 1. ],\n",
       "       [5.6, 2.7, 4.2, 1.3],\n",
       "       [5.7, 3. , 4.2, 1.2],\n",
       "       [5.7, 2.9, 4.2, 1.3],\n",
       "       [6.2, 2.9, 4.3, 1.3],\n",
       "       [5.1, 2.5, 3. , 1.1],\n",
       "       [5.7, 2.8, 4.1, 1.3],\n",
       "       [6.3, 3.3, 6. , 2.5],\n",
       "       [5.8, 2.7, 5.1, 1.9],\n",
       "       [7.1, 3. , 5.9, 2.1],\n",
       "       [6.3, 2.9, 5.6, 1.8],\n",
       "       [6.5, 3. , 5.8, 2.2],\n",
       "       [7.6, 3. , 6.6, 2.1],\n",
       "       [4.9, 2.5, 4.5, 1.7],\n",
       "       [7.3, 2.9, 6.3, 1.8],\n",
       "       [6.7, 2.5, 5.8, 1.8],\n",
       "       [7.2, 3.6, 6.1, 2.5],\n",
       "       [6.5, 3.2, 5.1, 2. ],\n",
       "       [6.4, 2.7, 5.3, 1.9],\n",
       "       [6.8, 3. , 5.5, 2.1],\n",
       "       [5.7, 2.5, 5. , 2. ],\n",
       "       [5.8, 2.8, 5.1, 2.4],\n",
       "       [6.4, 3.2, 5.3, 2.3],\n",
       "       [6.5, 3. , 5.5, 1.8],\n",
       "       [7.7, 3.8, 6.7, 2.2],\n",
       "       [7.7, 2.6, 6.9, 2.3],\n",
       "       [6. , 2.2, 5. , 1.5],\n",
       "       [6.9, 3.2, 5.7, 2.3],\n",
       "       [5.6, 2.8, 4.9, 2. ],\n",
       "       [7.7, 2.8, 6.7, 2. ],\n",
       "       [6.3, 2.7, 4.9, 1.8],\n",
       "       [6.7, 3.3, 5.7, 2.1],\n",
       "       [7.2, 3.2, 6. , 1.8],\n",
       "       [6.2, 2.8, 4.8, 1.8],\n",
       "       [6.1, 3. , 4.9, 1.8],\n",
       "       [6.4, 2.8, 5.6, 2.1],\n",
       "       [7.2, 3. , 5.8, 1.6],\n",
       "       [7.4, 2.8, 6.1, 1.9],\n",
       "       [7.9, 3.8, 6.4, 2. ],\n",
       "       [6.4, 2.8, 5.6, 2.2],\n",
       "       [6.3, 2.8, 5.1, 1.5],\n",
       "       [6.1, 2.6, 5.6, 1.4],\n",
       "       [7.7, 3. , 6.1, 2.3],\n",
       "       [6.3, 3.4, 5.6, 2.4],\n",
       "       [6.4, 3.1, 5.5, 1.8],\n",
       "       [6. , 3. , 4.8, 1.8],\n",
       "       [6.9, 3.1, 5.4, 2.1],\n",
       "       [6.7, 3.1, 5.6, 2.4],\n",
       "       [6.9, 3.1, 5.1, 2.3],\n",
       "       [5.8, 2.7, 5.1, 1.9],\n",
       "       [6.8, 3.2, 5.9, 2.3],\n",
       "       [6.7, 3.3, 5.7, 2.5],\n",
       "       [6.7, 3. , 5.2, 2.3],\n",
       "       [6.3, 2.5, 5. , 1.9],\n",
       "       [6.5, 3. , 5.2, 2. ],\n",
       "       [6.2, 3.4, 5.4, 2.3],\n",
       "       [5.9, 3. , 5.1, 1.8]])"
      ]
     },
     "execution_count": 23,
     "metadata": {},
     "output_type": "execute_result"
    }
   ],
   "source": [
    "iris.data"
   ]
  },
  {
   "cell_type": "code",
   "execution_count": 24,
   "metadata": {},
   "outputs": [],
   "source": [
    "x = iris.data[:, :2]"
   ]
  },
  {
   "cell_type": "code",
   "execution_count": 25,
   "metadata": {},
   "outputs": [
    {
     "data": {
      "text/plain": [
       "array([[5.1, 3.5],\n",
       "       [4.9, 3. ],\n",
       "       [4.7, 3.2],\n",
       "       [4.6, 3.1],\n",
       "       [5. , 3.6],\n",
       "       [5.4, 3.9],\n",
       "       [4.6, 3.4],\n",
       "       [5. , 3.4],\n",
       "       [4.4, 2.9],\n",
       "       [4.9, 3.1],\n",
       "       [5.4, 3.7],\n",
       "       [4.8, 3.4],\n",
       "       [4.8, 3. ],\n",
       "       [4.3, 3. ],\n",
       "       [5.8, 4. ],\n",
       "       [5.7, 4.4],\n",
       "       [5.4, 3.9],\n",
       "       [5.1, 3.5],\n",
       "       [5.7, 3.8],\n",
       "       [5.1, 3.8],\n",
       "       [5.4, 3.4],\n",
       "       [5.1, 3.7],\n",
       "       [4.6, 3.6],\n",
       "       [5.1, 3.3],\n",
       "       [4.8, 3.4],\n",
       "       [5. , 3. ],\n",
       "       [5. , 3.4],\n",
       "       [5.2, 3.5],\n",
       "       [5.2, 3.4],\n",
       "       [4.7, 3.2],\n",
       "       [4.8, 3.1],\n",
       "       [5.4, 3.4],\n",
       "       [5.2, 4.1],\n",
       "       [5.5, 4.2],\n",
       "       [4.9, 3.1],\n",
       "       [5. , 3.2],\n",
       "       [5.5, 3.5],\n",
       "       [4.9, 3.6],\n",
       "       [4.4, 3. ],\n",
       "       [5.1, 3.4],\n",
       "       [5. , 3.5],\n",
       "       [4.5, 2.3],\n",
       "       [4.4, 3.2],\n",
       "       [5. , 3.5],\n",
       "       [5.1, 3.8],\n",
       "       [4.8, 3. ],\n",
       "       [5.1, 3.8],\n",
       "       [4.6, 3.2],\n",
       "       [5.3, 3.7],\n",
       "       [5. , 3.3],\n",
       "       [7. , 3.2],\n",
       "       [6.4, 3.2],\n",
       "       [6.9, 3.1],\n",
       "       [5.5, 2.3],\n",
       "       [6.5, 2.8],\n",
       "       [5.7, 2.8],\n",
       "       [6.3, 3.3],\n",
       "       [4.9, 2.4],\n",
       "       [6.6, 2.9],\n",
       "       [5.2, 2.7],\n",
       "       [5. , 2. ],\n",
       "       [5.9, 3. ],\n",
       "       [6. , 2.2],\n",
       "       [6.1, 2.9],\n",
       "       [5.6, 2.9],\n",
       "       [6.7, 3.1],\n",
       "       [5.6, 3. ],\n",
       "       [5.8, 2.7],\n",
       "       [6.2, 2.2],\n",
       "       [5.6, 2.5],\n",
       "       [5.9, 3.2],\n",
       "       [6.1, 2.8],\n",
       "       [6.3, 2.5],\n",
       "       [6.1, 2.8],\n",
       "       [6.4, 2.9],\n",
       "       [6.6, 3. ],\n",
       "       [6.8, 2.8],\n",
       "       [6.7, 3. ],\n",
       "       [6. , 2.9],\n",
       "       [5.7, 2.6],\n",
       "       [5.5, 2.4],\n",
       "       [5.5, 2.4],\n",
       "       [5.8, 2.7],\n",
       "       [6. , 2.7],\n",
       "       [5.4, 3. ],\n",
       "       [6. , 3.4],\n",
       "       [6.7, 3.1],\n",
       "       [6.3, 2.3],\n",
       "       [5.6, 3. ],\n",
       "       [5.5, 2.5],\n",
       "       [5.5, 2.6],\n",
       "       [6.1, 3. ],\n",
       "       [5.8, 2.6],\n",
       "       [5. , 2.3],\n",
       "       [5.6, 2.7],\n",
       "       [5.7, 3. ],\n",
       "       [5.7, 2.9],\n",
       "       [6.2, 2.9],\n",
       "       [5.1, 2.5],\n",
       "       [5.7, 2.8],\n",
       "       [6.3, 3.3],\n",
       "       [5.8, 2.7],\n",
       "       [7.1, 3. ],\n",
       "       [6.3, 2.9],\n",
       "       [6.5, 3. ],\n",
       "       [7.6, 3. ],\n",
       "       [4.9, 2.5],\n",
       "       [7.3, 2.9],\n",
       "       [6.7, 2.5],\n",
       "       [7.2, 3.6],\n",
       "       [6.5, 3.2],\n",
       "       [6.4, 2.7],\n",
       "       [6.8, 3. ],\n",
       "       [5.7, 2.5],\n",
       "       [5.8, 2.8],\n",
       "       [6.4, 3.2],\n",
       "       [6.5, 3. ],\n",
       "       [7.7, 3.8],\n",
       "       [7.7, 2.6],\n",
       "       [6. , 2.2],\n",
       "       [6.9, 3.2],\n",
       "       [5.6, 2.8],\n",
       "       [7.7, 2.8],\n",
       "       [6.3, 2.7],\n",
       "       [6.7, 3.3],\n",
       "       [7.2, 3.2],\n",
       "       [6.2, 2.8],\n",
       "       [6.1, 3. ],\n",
       "       [6.4, 2.8],\n",
       "       [7.2, 3. ],\n",
       "       [7.4, 2.8],\n",
       "       [7.9, 3.8],\n",
       "       [6.4, 2.8],\n",
       "       [6.3, 2.8],\n",
       "       [6.1, 2.6],\n",
       "       [7.7, 3. ],\n",
       "       [6.3, 3.4],\n",
       "       [6.4, 3.1],\n",
       "       [6. , 3. ],\n",
       "       [6.9, 3.1],\n",
       "       [6.7, 3.1],\n",
       "       [6.9, 3.1],\n",
       "       [5.8, 2.7],\n",
       "       [6.8, 3.2],\n",
       "       [6.7, 3.3],\n",
       "       [6.7, 3. ],\n",
       "       [6.3, 2.5],\n",
       "       [6.5, 3. ],\n",
       "       [6.2, 3.4],\n",
       "       [5.9, 3. ]])"
      ]
     },
     "execution_count": 25,
     "metadata": {},
     "output_type": "execute_result"
    }
   ],
   "source": [
    "x"
   ]
  },
  {
   "cell_type": "code",
   "execution_count": 26,
   "metadata": {},
   "outputs": [
    {
     "data": {
      "text/plain": [
       "<matplotlib.collections.PathCollection at 0x2437b62ed30>"
      ]
     },
     "execution_count": 26,
     "metadata": {},
     "output_type": "execute_result"
    },
    {
     "data": {
      "image/png": "[encoded data removed]",
      "text/plain": [
       "<Figure size 432x288 with 1 Axes>"
      ]
     },
     "metadata": {
      "needs_background": "light"
     },
     "output_type": "display_data"
    }
   ],
   "source": [
    "plt.scatter(x[:,0],x[:,1])"
   ]
  },
  {
   "cell_type": "code",
   "execution_count": 27,
   "metadata": {},
   "outputs": [],
   "source": [
    "kmeans = KMeans(n_clusters=3)"
   ]
  },
  {
   "cell_type": "code",
   "execution_count": 28,
   "metadata": {},
   "outputs": [
    {
     "name": "stdout",
     "output_type": "stream",
     "text": [
      "[2 2 2 2 2 2 2 2 2 2 2 2 2 2 2 2 2 2 2 2 2 2 2 2 2 2 2 2 2 2 2 2 2 2 2 2 2\n",
      " 2 2 2 2 2 2 2 2 2 2 2 2 2 1 1 1 0 1 0 1 0 1 0 0 0 0 0 0 1 0 0 0 0 0 0 0 0\n",
      " 1 1 1 1 0 0 0 0 0 0 0 0 1 0 0 0 0 0 0 0 0 0 0 0 0 0 1 0 1 1 1 1 0 1 1 1 1\n",
      " 1 1 0 0 1 1 1 1 0 1 0 1 0 1 1 0 0 1 1 1 1 1 0 0 1 1 1 0 1 1 1 0 1 1 1 0 1\n",
      " 1 0]\n"
     ]
    }
   ],
   "source": [
    "y_pred = kmeans.fit_predict(x)\n",
    "print(y_pred)"
   ]
  },
  {
   "cell_type": "code",
   "execution_count": 29,
   "metadata": {},
   "outputs": [],
   "source": [
    "clusters = kmeans.cluster_centers_"
   ]
  },
  {
   "cell_type": "code",
   "execution_count": 30,
   "metadata": {},
   "outputs": [
    {
     "data": {
      "text/plain": [
       "array([[5.77358491, 2.69245283],\n",
       "       [6.81276596, 3.07446809],\n",
       "       [5.006     , 3.428     ]])"
      ]
     },
     "execution_count": 30,
     "metadata": {},
     "output_type": "execute_result"
    }
   ],
   "source": [
    "clusters"
   ]
  },
  {
   "cell_type": "code",
   "execution_count": 32,
   "metadata": {},
   "outputs": [
    {
     "data": {
      "text/plain": [
       "<matplotlib.collections.PathCollection at 0x2437b70d100>"
      ]
     },
     "execution_count": 32,
     "metadata": {},
     "output_type": "execute_result"
    },
    {
     "data": {
      "image/png": "[encoded data removed]",
      "text/plain": [
       "<Figure size 432x288 with 1 Axes>"
      ]
     },
     "metadata": {
      "needs_background": "light"
     },
     "output_type": "display_data"
    }
   ],
   "source": [
    "plt.scatter(x[y_pred==0,0], x[y_pred==0,1], s=70, color='green')\n",
    "plt.scatter(x[y_pred==1,0], x[y_pred==1,1], s=70, color='red')\n",
    "plt.scatter(x[y_pred==2,0], x[y_pred==2,1], s=70, color='yellow')\n",
    "\n",
    "plt.scatter(clusters[0][0], clusters[0][1], marker ='*', color = 'black')\n",
    "plt.scatter(clusters[1][0], clusters[1][1], marker ='*', color = 'black')\n",
    "plt.scatter(clusters[2][0], clusters[2][1], marker ='*', color = 'black')"
   ]
  },
  {
   "cell_type": "code",
   "execution_count": 33,
   "metadata": {},
   "outputs": [
    {
     "data": {
      "text/plain": [
       "<matplotlib.collections.PathCollection at 0x2437b7688b0>"
      ]
     },
     "execution_count": 33,
     "metadata": {},
     "output_type": "execute_result"
    },
    {
     "data": {
      "image/png": "[encoded data removed]",
      "text/plain": [
       "<Figure size 432x288 with 1 Axes>"
      ]
     },
     "metadata": {
      "needs_background": "light"
     },
     "output_type": "display_data"
    }
   ],
   "source": [
    "plt.scatter(clusters[0][0], clusters[0][1], marker ='*', color = 'black')\n",
    "plt.scatter(clusters[1][0], clusters[1][1], marker ='*', color = 'black')\n",
    "plt.scatter(clusters[2][0], clusters[2][1], marker ='*', color = 'black')"
   ]
  },
  {
   "cell_type": "markdown",
   "metadata": {},
   "source": [
    "### Decision Tree Classifier on the IRIS dataset "
   ]
  },
  {
   "cell_type": "code",
   "execution_count": 34,
   "metadata": {},
   "outputs": [],
   "source": [
    "from sklearn.tree import DecisionTreeClassifier"
   ]
  },
  {
   "cell_type": "code",
   "execution_count": 35,
   "metadata": {},
   "outputs": [],
   "source": [
    "import numpy as np"
   ]
  },
  {
   "cell_type": "code",
   "execution_count": 36,
   "metadata": {},
   "outputs": [],
   "source": [
    "from sklearn.datasets import load_iris"
   ]
  },
  {
   "cell_type": "code",
   "execution_count": 37,
   "metadata": {},
   "outputs": [],
   "source": [
    "iris = load_iris()"
   ]
  },
  {
   "cell_type": "code",
   "execution_count": 39,
   "metadata": {},
   "outputs": [],
   "source": [
    "from sklearn.model_selection import train_test_split"
   ]
  },
  {
   "cell_type": "code",
   "execution_count": 40,
   "metadata": {},
   "outputs": [],
   "source": [
    "x_train, x_test, y_train, y_test = train_test_split(iris.data, iris.target, test_size=0.25)"
   ]
  },
  {
   "cell_type": "code",
   "execution_count": 41,
   "metadata": {},
   "outputs": [],
   "source": [
    "dt = DecisionTreeClassifier(max_depth = 30)"
   ]
  },
  {
   "cell_type": "code",
   "execution_count": 42,
   "metadata": {},
   "outputs": [
    {
     "data": {
      "text/plain": [
       "DecisionTreeClassifier(max_depth=30)"
      ]
     },
     "execution_count": 42,
     "metadata": {},
     "output_type": "execute_result"
    }
   ],
   "source": [
    "dt.fit(x_train,y_train)"
   ]
  },
  {
   "cell_type": "code",
   "execution_count": 43,
   "metadata": {},
   "outputs": [],
   "source": [
    "from sklearn.metrics import mean_squared_error"
   ]
  },
  {
   "cell_type": "code",
   "execution_count": 44,
   "metadata": {},
   "outputs": [
    {
     "data": {
      "text/plain": [
       "0.9473684210526315"
      ]
     },
     "execution_count": 44,
     "metadata": {},
     "output_type": "execute_result"
    }
   ],
   "source": [
    "dt.score(x_test, y_test)"
   ]
  },
  {
   "cell_type": "code",
   "execution_count": 45,
   "metadata": {},
   "outputs": [],
   "source": [
    "y_pred = dt.predict(x_test)"
   ]
  },
  {
   "cell_type": "code",
   "execution_count": 46,
   "metadata": {},
   "outputs": [
    {
     "data": {
      "text/plain": [
       "0.22941573387056177"
      ]
     },
     "execution_count": 46,
     "metadata": {},
     "output_type": "execute_result"
    }
   ],
   "source": [
    "np.sqrt(mean_squared_error(y_test,y_pred))"
   ]
  }
 ],
 "metadata": {
  "kernelspec": {
   "display_name": "Python 3",
   "language": "python",
   "name": "python3"
  },
  "language_info": {
   "codemirror_mode": {
    "name": "ipython",
    "version": 3
   },
   "file_extension": ".py",
   "mimetype": "text/x-python",
   "name": "python",
   "nbconvert_exporter": "python",
   "pygments_lexer": "ipython3",
   "version": "3.8.5"
  }
 },
 "nbformat": 4,
 "nbformat_minor": 4
}
