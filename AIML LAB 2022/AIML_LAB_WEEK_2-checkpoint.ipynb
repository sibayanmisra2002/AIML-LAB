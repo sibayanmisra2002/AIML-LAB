{
 "cells": [
  {
   "cell_type": "code",
   "execution_count": 1,
   "metadata": {},
   "outputs": [],
   "source": [
    "import pandas as pd"
   ]
  },
  {
   "cell_type": "code",
   "execution_count": 2,
   "metadata": {},
   "outputs": [],
   "source": [
    "col_names = ['Student ID', 'Name', 'Marks1', 'Marks2', 'Marks3', 'Marks4', 'Marks5', 'Marks6']\n",
    "df = pd.DataFrame(columns = col_names)"
   ]
  },
  {
   "cell_type": "code",
   "execution_count": 3,
   "metadata": {},
   "outputs": [
    {
     "data": {
      "text/html": [
       "<div>\n",
       "<style scoped>\n",
       "    .dataframe tbody tr th:only-of-type {\n",
       "        vertical-align: middle;\n",
       "    }\n",
       "\n",
       "    .dataframe tbody tr th {\n",
       "        vertical-align: top;\n",
       "    }\n",
       "\n",
       "    .dataframe thead th {\n",
       "        text-align: right;\n",
       "    }\n",
       "</style>\n",
       "<table border=\"1\" class=\"dataframe\">\n",
       "  <thead>\n",
       "    <tr style=\"text-align: right;\">\n",
       "      <th></th>\n",
       "      <th>Student ID</th>\n",
       "      <th>Name</th>\n",
       "      <th>Marks1</th>\n",
       "      <th>Marks2</th>\n",
       "      <th>Marks3</th>\n",
       "      <th>Marks4</th>\n",
       "      <th>Marks5</th>\n",
       "      <th>Marks6</th>\n",
       "    </tr>\n",
       "  </thead>\n",
       "  <tbody>\n",
       "  </tbody>\n",
       "</table>\n",
       "</div>"
      ],
      "text/plain": [
       "Empty DataFrame\n",
       "Columns: [Student ID, Name, Marks1, Marks2, Marks3, Marks4, Marks5, Marks6]\n",
       "Index: []"
      ]
     },
     "execution_count": 3,
     "metadata": {},
     "output_type": "execute_result"
    }
   ],
   "source": [
    "df"
   ]
  },
  {
   "cell_type": "code",
   "execution_count": 4,
   "metadata": {},
   "outputs": [],
   "source": [
    "stud1 = {'Student ID':2, 'Name': 'E', 'Marks1':45, 'Marks2':71, 'Marks3':67, 'Marks4':78, 'Marks5':56, 'Marks6':85}\n",
    "df =df.append(stud1, ignore_index=True)"
   ]
  },
  {
   "cell_type": "code",
   "execution_count": 5,
   "metadata": {},
   "outputs": [
    {
     "data": {
      "text/html": [
       "<div>\n",
       "<style scoped>\n",
       "    .dataframe tbody tr th:only-of-type {\n",
       "        vertical-align: middle;\n",
       "    }\n",
       "\n",
       "    .dataframe tbody tr th {\n",
       "        vertical-align: top;\n",
       "    }\n",
       "\n",
       "    .dataframe thead th {\n",
       "        text-align: right;\n",
       "    }\n",
       "</style>\n",
       "<table border=\"1\" class=\"dataframe\">\n",
       "  <thead>\n",
       "    <tr style=\"text-align: right;\">\n",
       "      <th></th>\n",
       "      <th>Student ID</th>\n",
       "      <th>Name</th>\n",
       "      <th>Marks1</th>\n",
       "      <th>Marks2</th>\n",
       "      <th>Marks3</th>\n",
       "      <th>Marks4</th>\n",
       "      <th>Marks5</th>\n",
       "      <th>Marks6</th>\n",
       "    </tr>\n",
       "  </thead>\n",
       "  <tbody>\n",
       "    <tr>\n",
       "      <th>0</th>\n",
       "      <td>2</td>\n",
       "      <td>E</td>\n",
       "      <td>45</td>\n",
       "      <td>71</td>\n",
       "      <td>67</td>\n",
       "      <td>78</td>\n",
       "      <td>56</td>\n",
       "      <td>85</td>\n",
       "    </tr>\n",
       "  </tbody>\n",
       "</table>\n",
       "</div>"
      ],
      "text/plain": [
       "  Student ID Name Marks1 Marks2 Marks3 Marks4 Marks5 Marks6\n",
       "0          2    E     45     71     67     78     56     85"
      ]
     },
     "execution_count": 5,
     "metadata": {},
     "output_type": "execute_result"
    }
   ],
   "source": [
    "df"
   ]
  },
  {
   "cell_type": "code",
   "execution_count": 6,
   "metadata": {},
   "outputs": [],
   "source": [
    "stud1 = pd.DataFrame({'Student ID':[5], 'Name': ['D'], 'Marks1':[32], 'Marks2':[90], 'Marks3':[39], \n",
    "                      'Marks4':[67], 'Marks5':[43], 'Marks6':[54]})\n",
    "df = pd.concat([df, stud1], axis=0, ignore_index=True)"
   ]
  },
  {
   "cell_type": "code",
   "execution_count": 7,
   "metadata": {},
   "outputs": [
    {
     "data": {
      "text/html": [
       "<div>\n",
       "<style scoped>\n",
       "    .dataframe tbody tr th:only-of-type {\n",
       "        vertical-align: middle;\n",
       "    }\n",
       "\n",
       "    .dataframe tbody tr th {\n",
       "        vertical-align: top;\n",
       "    }\n",
       "\n",
       "    .dataframe thead th {\n",
       "        text-align: right;\n",
       "    }\n",
       "</style>\n",
       "<table border=\"1\" class=\"dataframe\">\n",
       "  <thead>\n",
       "    <tr style=\"text-align: right;\">\n",
       "      <th></th>\n",
       "      <th>Student ID</th>\n",
       "      <th>Name</th>\n",
       "      <th>Marks1</th>\n",
       "      <th>Marks2</th>\n",
       "      <th>Marks3</th>\n",
       "      <th>Marks4</th>\n",
       "      <th>Marks5</th>\n",
       "      <th>Marks6</th>\n",
       "    </tr>\n",
       "  </thead>\n",
       "  <tbody>\n",
       "    <tr>\n",
       "      <th>0</th>\n",
       "      <td>2</td>\n",
       "      <td>E</td>\n",
       "      <td>45</td>\n",
       "      <td>71</td>\n",
       "      <td>67</td>\n",
       "      <td>78</td>\n",
       "      <td>56</td>\n",
       "      <td>85</td>\n",
       "    </tr>\n",
       "    <tr>\n",
       "      <th>1</th>\n",
       "      <td>5</td>\n",
       "      <td>D</td>\n",
       "      <td>32</td>\n",
       "      <td>90</td>\n",
       "      <td>39</td>\n",
       "      <td>67</td>\n",
       "      <td>43</td>\n",
       "      <td>54</td>\n",
       "    </tr>\n",
       "  </tbody>\n",
       "</table>\n",
       "</div>"
      ],
      "text/plain": [
       "  Student ID Name Marks1 Marks2 Marks3 Marks4 Marks5 Marks6\n",
       "0          2    E     45     71     67     78     56     85\n",
       "1          5    D     32     90     39     67     43     54"
      ]
     },
     "execution_count": 7,
     "metadata": {},
     "output_type": "execute_result"
    }
   ],
   "source": [
    "df"
   ]
  },
  {
   "cell_type": "code",
   "execution_count": 8,
   "metadata": {},
   "outputs": [],
   "source": [
    "df.loc[-1] = [8, 'V', 65, 67, 72, 75, 66, 81]"
   ]
  },
  {
   "cell_type": "code",
   "execution_count": 9,
   "metadata": {},
   "outputs": [
    {
     "data": {
      "text/html": [
       "<div>\n",
       "<style scoped>\n",
       "    .dataframe tbody tr th:only-of-type {\n",
       "        vertical-align: middle;\n",
       "    }\n",
       "\n",
       "    .dataframe tbody tr th {\n",
       "        vertical-align: top;\n",
       "    }\n",
       "\n",
       "    .dataframe thead th {\n",
       "        text-align: right;\n",
       "    }\n",
       "</style>\n",
       "<table border=\"1\" class=\"dataframe\">\n",
       "  <thead>\n",
       "    <tr style=\"text-align: right;\">\n",
       "      <th></th>\n",
       "      <th>Student ID</th>\n",
       "      <th>Name</th>\n",
       "      <th>Marks1</th>\n",
       "      <th>Marks2</th>\n",
       "      <th>Marks3</th>\n",
       "      <th>Marks4</th>\n",
       "      <th>Marks5</th>\n",
       "      <th>Marks6</th>\n",
       "    </tr>\n",
       "  </thead>\n",
       "  <tbody>\n",
       "    <tr>\n",
       "      <th>0</th>\n",
       "      <td>2</td>\n",
       "      <td>E</td>\n",
       "      <td>45</td>\n",
       "      <td>71</td>\n",
       "      <td>67</td>\n",
       "      <td>78</td>\n",
       "      <td>56</td>\n",
       "      <td>85</td>\n",
       "    </tr>\n",
       "    <tr>\n",
       "      <th>1</th>\n",
       "      <td>5</td>\n",
       "      <td>D</td>\n",
       "      <td>32</td>\n",
       "      <td>90</td>\n",
       "      <td>39</td>\n",
       "      <td>67</td>\n",
       "      <td>43</td>\n",
       "      <td>54</td>\n",
       "    </tr>\n",
       "    <tr>\n",
       "      <th>-1</th>\n",
       "      <td>8</td>\n",
       "      <td>V</td>\n",
       "      <td>65</td>\n",
       "      <td>67</td>\n",
       "      <td>72</td>\n",
       "      <td>75</td>\n",
       "      <td>66</td>\n",
       "      <td>81</td>\n",
       "    </tr>\n",
       "  </tbody>\n",
       "</table>\n",
       "</div>"
      ],
      "text/plain": [
       "   Student ID Name Marks1 Marks2 Marks3 Marks4 Marks5 Marks6\n",
       " 0          2    E     45     71     67     78     56     85\n",
       " 1          5    D     32     90     39     67     43     54\n",
       "-1          8    V     65     67     72     75     66     81"
      ]
     },
     "execution_count": 9,
     "metadata": {},
     "output_type": "execute_result"
    }
   ],
   "source": [
    "df"
   ]
  },
  {
   "cell_type": "code",
   "execution_count": 10,
   "metadata": {},
   "outputs": [],
   "source": [
    "df.loc[2] = [4, 'A', 39, 51, 76, 78, 80, 91]"
   ]
  },
  {
   "cell_type": "code",
   "execution_count": 11,
   "metadata": {},
   "outputs": [
    {
     "data": {
      "text/html": [
       "<div>\n",
       "<style scoped>\n",
       "    .dataframe tbody tr th:only-of-type {\n",
       "        vertical-align: middle;\n",
       "    }\n",
       "\n",
       "    .dataframe tbody tr th {\n",
       "        vertical-align: top;\n",
       "    }\n",
       "\n",
       "    .dataframe thead th {\n",
       "        text-align: right;\n",
       "    }\n",
       "</style>\n",
       "<table border=\"1\" class=\"dataframe\">\n",
       "  <thead>\n",
       "    <tr style=\"text-align: right;\">\n",
       "      <th></th>\n",
       "      <th>Student ID</th>\n",
       "      <th>Name</th>\n",
       "      <th>Marks1</th>\n",
       "      <th>Marks2</th>\n",
       "      <th>Marks3</th>\n",
       "      <th>Marks4</th>\n",
       "      <th>Marks5</th>\n",
       "      <th>Marks6</th>\n",
       "    </tr>\n",
       "  </thead>\n",
       "  <tbody>\n",
       "    <tr>\n",
       "      <th>0</th>\n",
       "      <td>2</td>\n",
       "      <td>E</td>\n",
       "      <td>45</td>\n",
       "      <td>71</td>\n",
       "      <td>67</td>\n",
       "      <td>78</td>\n",
       "      <td>56</td>\n",
       "      <td>85</td>\n",
       "    </tr>\n",
       "    <tr>\n",
       "      <th>1</th>\n",
       "      <td>5</td>\n",
       "      <td>D</td>\n",
       "      <td>32</td>\n",
       "      <td>90</td>\n",
       "      <td>39</td>\n",
       "      <td>67</td>\n",
       "      <td>43</td>\n",
       "      <td>54</td>\n",
       "    </tr>\n",
       "    <tr>\n",
       "      <th>-1</th>\n",
       "      <td>8</td>\n",
       "      <td>V</td>\n",
       "      <td>65</td>\n",
       "      <td>67</td>\n",
       "      <td>72</td>\n",
       "      <td>75</td>\n",
       "      <td>66</td>\n",
       "      <td>81</td>\n",
       "    </tr>\n",
       "    <tr>\n",
       "      <th>2</th>\n",
       "      <td>4</td>\n",
       "      <td>A</td>\n",
       "      <td>39</td>\n",
       "      <td>51</td>\n",
       "      <td>76</td>\n",
       "      <td>78</td>\n",
       "      <td>80</td>\n",
       "      <td>91</td>\n",
       "    </tr>\n",
       "  </tbody>\n",
       "</table>\n",
       "</div>"
      ],
      "text/plain": [
       "   Student ID Name Marks1 Marks2 Marks3 Marks4 Marks5 Marks6\n",
       " 0          2    E     45     71     67     78     56     85\n",
       " 1          5    D     32     90     39     67     43     54\n",
       "-1          8    V     65     67     72     75     66     81\n",
       " 2          4    A     39     51     76     78     80     91"
      ]
     },
     "execution_count": 11,
     "metadata": {},
     "output_type": "execute_result"
    }
   ],
   "source": [
    "df"
   ]
  },
  {
   "cell_type": "code",
   "execution_count": 12,
   "metadata": {},
   "outputs": [],
   "source": [
    "df.index = df.index + 1\n",
    "df = df.sort_index()"
   ]
  },
  {
   "cell_type": "code",
   "execution_count": 13,
   "metadata": {},
   "outputs": [
    {
     "data": {
      "text/html": [
       "<div>\n",
       "<style scoped>\n",
       "    .dataframe tbody tr th:only-of-type {\n",
       "        vertical-align: middle;\n",
       "    }\n",
       "\n",
       "    .dataframe tbody tr th {\n",
       "        vertical-align: top;\n",
       "    }\n",
       "\n",
       "    .dataframe thead th {\n",
       "        text-align: right;\n",
       "    }\n",
       "</style>\n",
       "<table border=\"1\" class=\"dataframe\">\n",
       "  <thead>\n",
       "    <tr style=\"text-align: right;\">\n",
       "      <th></th>\n",
       "      <th>Student ID</th>\n",
       "      <th>Name</th>\n",
       "      <th>Marks1</th>\n",
       "      <th>Marks2</th>\n",
       "      <th>Marks3</th>\n",
       "      <th>Marks4</th>\n",
       "      <th>Marks5</th>\n",
       "      <th>Marks6</th>\n",
       "    </tr>\n",
       "  </thead>\n",
       "  <tbody>\n",
       "    <tr>\n",
       "      <th>0</th>\n",
       "      <td>8</td>\n",
       "      <td>V</td>\n",
       "      <td>65</td>\n",
       "      <td>67</td>\n",
       "      <td>72</td>\n",
       "      <td>75</td>\n",
       "      <td>66</td>\n",
       "      <td>81</td>\n",
       "    </tr>\n",
       "    <tr>\n",
       "      <th>1</th>\n",
       "      <td>2</td>\n",
       "      <td>E</td>\n",
       "      <td>45</td>\n",
       "      <td>71</td>\n",
       "      <td>67</td>\n",
       "      <td>78</td>\n",
       "      <td>56</td>\n",
       "      <td>85</td>\n",
       "    </tr>\n",
       "    <tr>\n",
       "      <th>2</th>\n",
       "      <td>5</td>\n",
       "      <td>D</td>\n",
       "      <td>32</td>\n",
       "      <td>90</td>\n",
       "      <td>39</td>\n",
       "      <td>67</td>\n",
       "      <td>43</td>\n",
       "      <td>54</td>\n",
       "    </tr>\n",
       "    <tr>\n",
       "      <th>3</th>\n",
       "      <td>4</td>\n",
       "      <td>A</td>\n",
       "      <td>39</td>\n",
       "      <td>51</td>\n",
       "      <td>76</td>\n",
       "      <td>78</td>\n",
       "      <td>80</td>\n",
       "      <td>91</td>\n",
       "    </tr>\n",
       "  </tbody>\n",
       "</table>\n",
       "</div>"
      ],
      "text/plain": [
       "  Student ID Name Marks1 Marks2 Marks3 Marks4 Marks5 Marks6\n",
       "0          8    V     65     67     72     75     66     81\n",
       "1          2    E     45     71     67     78     56     85\n",
       "2          5    D     32     90     39     67     43     54\n",
       "3          4    A     39     51     76     78     80     91"
      ]
     },
     "execution_count": 13,
     "metadata": {},
     "output_type": "execute_result"
    }
   ],
   "source": [
    "df"
   ]
  },
  {
   "cell_type": "code",
   "execution_count": 14,
   "metadata": {},
   "outputs": [
    {
     "name": "stdout",
     "output_type": "stream",
     "text": [
      "0    426\n",
      "1    402\n",
      "2    325\n",
      "3    415\n",
      "dtype: object\n"
     ]
    }
   ],
   "source": [
    "sum = df['Marks1']+df['Marks2']+df['Marks3']+df['Marks4']+df['Marks5']+df['Marks6']\n",
    "print(sum)"
   ]
  },
  {
   "cell_type": "code",
   "execution_count": 15,
   "metadata": {},
   "outputs": [
    {
     "name": "stdout",
     "output_type": "stream",
     "text": [
      "0         71\n",
      "1         67\n",
      "2    54.1667\n",
      "3    69.1667\n",
      "dtype: object\n"
     ]
    }
   ],
   "source": [
    "per = sum/6\n",
    "print(per)"
   ]
  },
  {
   "cell_type": "code",
   "execution_count": 16,
   "metadata": {},
   "outputs": [
    {
     "name": "stdout",
     "output_type": "stream",
     "text": [
      "  Student ID Name Marks1 Marks2 Marks3 Marks4 Marks5 Marks6      per\n",
      "0          8    V     65     67     72     75     66     81       71\n",
      "1          2    E     45     71     67     78     56     85       67\n",
      "2          5    D     32     90     39     67     43     54  54.1667\n",
      "3          4    A     39     51     76     78     80     91  69.1667\n"
     ]
    }
   ],
   "source": [
    "df[\"per\"] = per\n",
    "print(df)"
   ]
  },
  {
   "cell_type": "code",
   "execution_count": 17,
   "metadata": {},
   "outputs": [
    {
     "name": "stdout",
     "output_type": "stream",
     "text": [
      "  Student ID Name\n",
      "0          8    V\n"
     ]
    }
   ],
   "source": [
    "print(df[['Student ID', 'Name']][df.per == df.per.max()])"
   ]
  },
  {
   "cell_type": "code",
   "execution_count": 18,
   "metadata": {},
   "outputs": [],
   "source": [
    "df.to_csv(\"file.csv\")"
   ]
  },
  {
   "cell_type": "code",
   "execution_count": 19,
   "metadata": {},
   "outputs": [
    {
     "data": {
      "text/html": [
       "<div>\n",
       "<style scoped>\n",
       "    .dataframe tbody tr th:only-of-type {\n",
       "        vertical-align: middle;\n",
       "    }\n",
       "\n",
       "    .dataframe tbody tr th {\n",
       "        vertical-align: top;\n",
       "    }\n",
       "\n",
       "    .dataframe thead th {\n",
       "        text-align: right;\n",
       "    }\n",
       "</style>\n",
       "<table border=\"1\" class=\"dataframe\">\n",
       "  <thead>\n",
       "    <tr style=\"text-align: right;\">\n",
       "      <th></th>\n",
       "      <th>Student ID</th>\n",
       "      <th>Name</th>\n",
       "      <th>Marks1</th>\n",
       "      <th>Marks2</th>\n",
       "      <th>Marks3</th>\n",
       "      <th>Marks4</th>\n",
       "      <th>Marks5</th>\n",
       "      <th>Marks6</th>\n",
       "      <th>per</th>\n",
       "    </tr>\n",
       "  </thead>\n",
       "  <tbody>\n",
       "    <tr>\n",
       "      <th>0</th>\n",
       "      <td>8</td>\n",
       "      <td>V</td>\n",
       "      <td>65</td>\n",
       "      <td>67</td>\n",
       "      <td>72</td>\n",
       "      <td>75</td>\n",
       "      <td>66</td>\n",
       "      <td>81</td>\n",
       "      <td>71</td>\n",
       "    </tr>\n",
       "    <tr>\n",
       "      <th>1</th>\n",
       "      <td>2</td>\n",
       "      <td>E</td>\n",
       "      <td>45</td>\n",
       "      <td>71</td>\n",
       "      <td>67</td>\n",
       "      <td>78</td>\n",
       "      <td>56</td>\n",
       "      <td>85</td>\n",
       "      <td>67</td>\n",
       "    </tr>\n",
       "    <tr>\n",
       "      <th>2</th>\n",
       "      <td>5</td>\n",
       "      <td>D</td>\n",
       "      <td>32</td>\n",
       "      <td>90</td>\n",
       "      <td>39</td>\n",
       "      <td>67</td>\n",
       "      <td>43</td>\n",
       "      <td>54</td>\n",
       "      <td>54.1667</td>\n",
       "    </tr>\n",
       "    <tr>\n",
       "      <th>3</th>\n",
       "      <td>4</td>\n",
       "      <td>A</td>\n",
       "      <td>39</td>\n",
       "      <td>51</td>\n",
       "      <td>76</td>\n",
       "      <td>78</td>\n",
       "      <td>80</td>\n",
       "      <td>91</td>\n",
       "      <td>69.1667</td>\n",
       "    </tr>\n",
       "  </tbody>\n",
       "</table>\n",
       "</div>"
      ],
      "text/plain": [
       "  Student ID Name Marks1 Marks2 Marks3 Marks4 Marks5 Marks6      per\n",
       "0          8    V     65     67     72     75     66     81       71\n",
       "1          2    E     45     71     67     78     56     85       67\n",
       "2          5    D     32     90     39     67     43     54  54.1667\n",
       "3          4    A     39     51     76     78     80     91  69.1667"
      ]
     },
     "execution_count": 19,
     "metadata": {},
     "output_type": "execute_result"
    }
   ],
   "source": [
    "df"
   ]
  },
  {
   "cell_type": "code",
   "execution_count": null,
   "metadata": {},
   "outputs": [],
   "source": []
  }
 ],
 "metadata": {
  "kernelspec": {
   "display_name": "Python 3",
   "language": "python",
   "name": "python3"
  },
  "language_info": {
   "codemirror_mode": {
    "name": "ipython",
    "version": 3
   },
   "file_extension": ".py",
   "mimetype": "text/x-python",
   "name": "python",
   "nbconvert_exporter": "python",
   "pygments_lexer": "ipython3",
   "version": "3.8.5"
  }
 },
 "nbformat": 4,
 "nbformat_minor": 4
}
